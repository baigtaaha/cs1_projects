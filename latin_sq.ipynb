{
 "cells": [
  {
   "cell_type": "code",
   "execution_count": null,
   "id": "9f18aa56-b803-4481-9444-b5258a1d6825",
   "metadata": {},
   "outputs": [],
   "source": [
    "#LatinSquares\n",
    "\n",
    "def main():\n",
    "    # Ask user for the order of the Latin Square\n",
    "    order = int(input(\"Please enter the input of square: \"))\n",
    "\n",
    "    # Ask user for the top-left starting number\n",
    "    start = int(input(\"Please Enter the top-left number (between 1 and \" + str(order) + \"): \"))\n",
    "\n",
    "    # Check if the top-left number is valid\n",
    "    if start < 1 or start > order:\n",
    "        print(\"Error: Top-left number must be between 1 and\", order)\n",
    "        return  # Exit the program early\n",
    "\n",
    "    print(\"\\nLatin Square of order\", order, \"starting with\", start, \":\\n\")\n",
    "\n",
    "    # Generate the Latin Square\n",
    "    for row in range(order):\n",
    "        for col in range(order):\n",
    "            # Calculate the value using modular arithmetic\n",
    "            value = ((start - 1 + row + col) % order) + 1\n",
    "            print(value, end=\" \")\n",
    "        print()  # Move to the next row\n",
    "\n",
    "# Run the main function\n",
    "main()"
   ]
  }
 ],
 "metadata": {
  "kernelspec": {
   "display_name": "Python [conda env:base] *",
   "language": "python",
   "name": "conda-base-py"
  },
  "language_info": {
   "codemirror_mode": {
    "name": "ipython",
    "version": 3
   },
   "file_extension": ".py",
   "mimetype": "text/x-python",
   "name": "python",
   "nbconvert_exporter": "python",
   "pygments_lexer": "ipython3",
   "version": "3.12.7"
  }
 },
 "nbformat": 4,
 "nbformat_minor": 5
}
