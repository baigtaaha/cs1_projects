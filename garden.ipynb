{
 "cells": [
  {
   "cell_type": "code",
   "execution_count": 2,
   "id": "bc1840dc-63ec-400b-8376-0b876d6e1f1a",
   "metadata": {},
   "outputs": [
    {
     "name": "stdin",
     "output_type": "stream",
     "text": [
      "Please enter the side length of your garden (in feet):  12\n",
      "Please enter the distance between plants (in inches):  20\n",
      "Please enter the depth for the flowerbeds (in feet):  6\n",
      "Please enter the depth for the fill areas (in feet):  4\n"
     ]
    },
    {
     "name": "stdout",
     "output_type": "stream",
     "text": [
      "\n",
      "Summary of your plant needs:\n",
      "Total number of plants for the garden: 36\n",
      "Plants for each type of flowerbed (triangular): 6\n",
      "Plants for the circular flowerbed: 10\n",
      "\n",
      "Summary of your soil needs:\n",
      "Cubic yards of soil for flowerbeds: 22.28 cubic yards\n",
      "Cubic yards of soil for fill areas: 6.48 cubic yards\n"
     ]
    }
   ],
   "source": [
    "#Garden\n",
    "\n",
    "import math\n",
    "\n",
    "# Function to calculate the number of plants and cubic yards of soil\n",
    "def garden_calculator():\n",
    "    # Step 1: Get input values from the user\n",
    "    side_length = float(input(\"Please enter the side length of your garden (in feet): \"))\n",
    "    plant_spacing = float(input(\"Please enter the distance between plants (in inches): \"))\n",
    "    flowerbed_depth = float(input(\"Please enter the depth for the flowerbeds (in feet): \"))\n",
    "    fill_depth = float(input(\"Please enter the depth for the fill areas (in feet): \"))\n",
    "\n",
    "    #  Convert plant spacing from inches to feet\n",
    "    plant_spacing_feet = plant_spacing / 12  # convert inches to feet\n",
    "\n",
    "    # Calculate areas\n",
    "    # Area of the entire garden (square)\n",
    "    garden_area = side_length ** 2\n",
    "\n",
    "    # Area of one triangular flowerbed (congruent isosceles triangles)\n",
    "    triangle_area = 0.5 * (side_length / 2) * (side_length / 2)  # base * height / 2\n",
    "\n",
    "    # Total area of the four triangular flowerbeds\n",
    "    total_triangle_area = 4 * triangle_area\n",
    "\n",
    "    # Area of the circular flowerbed (radius is half of side_length / 2)\n",
    "    radius = side_length / 4\n",
    "    circle_area = math.pi * (radius ** 2)\n",
    "\n",
    "    # Total area of the flowerbeds (sum of triangles and circle)\n",
    "    total_flowerbed_area = total_triangle_area + circle_area\n",
    "\n",
    "    # Area of the fill areas (remaining area in the garden)\n",
    "    fill_area = garden_area - total_flowerbed_area\n",
    "\n",
    "    #  Calculate number of plants\n",
    "    plant_area = plant_spacing_feet ** 2  # Area required per plant in square feet\n",
    "    plants_per_triangle = triangle_area / plant_area\n",
    "    plants_per_circle = circle_area / plant_area\n",
    "\n",
    "    total_plants = (plants_per_triangle * 4) + plants_per_circle\n",
    "\n",
    "    # Calculate cubic yards of soil\n",
    "    flowerbed_volume_cubic_feet = total_flowerbed_area * flowerbed_depth\n",
    "    fill_area_volume_cubic_feet = fill_area * fill_depth\n",
    "\n",
    "    total_flowerbed_soil_cubic_yards = flowerbed_volume_cubic_feet / 27  # Convert to cubic yards\n",
    "    total_fill_soil_cubic_yards = fill_area_volume_cubic_feet / 27  # Convert to cubic yards\n",
    "\n",
    "    #  Print the results\n",
    "    print(\"\\nSummary of your plant needs:\")\n",
    "    print(f\"Total number of plants for the garden: {int(total_plants)}\")\n",
    "    print(f\"Plants for each type of flowerbed (triangular): {int(plants_per_triangle)}\")\n",
    "    print(f\"Plants for the circular flowerbed: {int(plants_per_circle)}\")\n",
    "    print(f\"\\nSummary of your soil needs:\")\n",
    "    print(f\"Cubic yards of soil for flowerbeds: {total_flowerbed_soil_cubic_yards:.2f} cubic yards\")\n",
    "    print(f\"Cubic yards of soil for fill areas: {total_fill_soil_cubic_yards:.2f} cubic yards\")\n",
    "\n",
    "# Run the program\n",
    "garden_calculator()"
   ]
  },
  {
   "cell_type": "code",
   "execution_count": null,
   "id": "009afaf7-a87f-4e5d-83a0-6bf1a4f35d26",
   "metadata": {},
   "outputs": [],
   "source": []
  }
 ],
 "metadata": {
  "kernelspec": {
   "display_name": "Python [conda env:base] *",
   "language": "python",
   "name": "conda-base-py"
  },
  "language_info": {
   "codemirror_mode": {
    "name": "ipython",
    "version": 3
   },
   "file_extension": ".py",
   "mimetype": "text/x-python",
   "name": "python",
   "nbconvert_exporter": "python",
   "pygments_lexer": "ipython3",
   "version": "3.12.7"
  }
 },
 "nbformat": 4,
 "nbformat_minor": 5
}
