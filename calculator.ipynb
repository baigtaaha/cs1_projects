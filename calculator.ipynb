{
 "cells": [
  {
   "cell_type": "code",
   "execution_count": null,
   "id": "e4033703-65ab-4bd9-a56f-619255a7c7ee",
   "metadata": {},
   "outputs": [],
   "source": [
    "#Calculator\n",
    "\n",
    "import re  # Import regular expressions to handle flexible input\n",
    "\n",
    "def main():\n",
    "    print(\"Welcome to the simple calculator!\\n\")\n",
    "\n",
    "    while True:\n",
    "        # Prompt for an expression\n",
    "        expression = input(\"Enter an expression (e.g., 4 + 5): \").strip()\n",
    "\n",
    "        # Use regular expressions to match input with optional spaces\n",
    "        match = re.fullmatch(r'(-?\\d+(\\.\\d+)?)\\s*([+\\-/])\\s(-?\\d+(\\.\\d+)?)', expression)\n",
    "\n",
    "        if not match:\n",
    "            print(\"Error: Invalid input format. Use: number operator number (e.g., 4 + 5)\")\n",
    "            continue\n",
    "\n",
    "        # Extract numbers and operator from the matched groups\n",
    "        num1 = float(match.group(1))\n",
    "        operator = match.group(3)\n",
    "        num2 = float(match.group(4))\n",
    "\n",
    "        # Perform calculation\n",
    "        if operator == '+':\n",
    "            result = num1 + num2\n",
    "        elif operator == '-':\n",
    "            result = num1 - num2\n",
    "        elif operator == '*':\n",
    "            result = num1 * num2\n",
    "        elif operator == '/':\n",
    "            if num2 == 0:\n",
    "                print(\"Error: Division by zero is not allowed.\")\n",
    "                continue\n",
    "            result = num1 / num2\n",
    "\n",
    "        # Print result\n",
    "        print(\"Result:\", result)\n",
    "\n",
    "        # Ask user if they want to continue\n",
    "        again = input(\"Do you want to perform another calculation? (yes/no): \").strip().lower()\n",
    "        if again not in [\"yes\", \"y\"]:\n",
    "            print(\"Thank you for using the calculator. Goodbye!\")\n",
    "            break\n",
    "\n",
    "# Start the program\n",
    "main()"
   ]
  }
 ],
 "metadata": {
  "kernelspec": {
   "display_name": "Python [conda env:base] *",
   "language": "python",
   "name": "conda-base-py"
  },
  "language_info": {
   "codemirror_mode": {
    "name": "ipython",
    "version": 3
   },
   "file_extension": ".py",
   "mimetype": "text/x-python",
   "name": "python",
   "nbconvert_exporter": "python",
   "pygments_lexer": "ipython3",
   "version": "3.12.7"
  }
 },
 "nbformat": 4,
 "nbformat_minor": 5
}
