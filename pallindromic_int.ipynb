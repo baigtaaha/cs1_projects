{
 "cells": [
  {
   "cell_type": "code",
   "execution_count": null,
   "id": "3c9b7cbf-64f2-4dfe-9296-e59950375a0c",
   "metadata": {},
   "outputs": [],
   "source": [
    "# Palindomic Integers\n",
    "\n",
    "# Function to check if a number is a palindrome\n",
    "def is_palindrome(n):\n",
    "    return str(n) == str(n)[::-1]\n",
    "\n",
    "# Function to reverse the digits of a number and return it as an integer\n",
    "def reverse_number(n):\n",
    "    return int(str(n)[::-1])\n",
    "\n",
    "# Function to apply the 196-algorithm and determine if a number is a Lychrel number\n",
    "def is_lychrel(n, max_iterations=60):\n",
    "    for _ in range(max_iterations):\n",
    "        n = n + reverse_number(n)\n",
    "        if is_palindrome(n):\n",
    "            return False  # Found a palindrome, not a Lychrel number\n",
    "    return True  # Did not find a palindrome within max iterations, it's a Lychrel number\n",
    "\n",
    "def main():\n",
    "    # Prompt for the range of integers\n",
    "    start = int(input(\"Enter the starting number of the range: \"))\n",
    "    end = int(input(\"Enter the ending number of the range: \"))\n",
    "\n",
    "    # Initialize counters\n",
    "    natural_palindromes = 0\n",
    "    non_lychrels = 0\n",
    "    lychrels = 0\n",
    "\n",
    "    # Iterate through the range and apply the 196-algorithm\n",
    "    for num in range(start, end + 1):\n",
    "        if is_palindrome(num):\n",
    "            natural_palindromes += 1\n",
    "        elif is_lychrel(num):\n",
    "            lychrels += 1\n",
    "            print(f\"Lychrel number: {num}\")\n",
    "        else:\n",
    "            non_lychrels += 1\n",
    "\n",
    "    # Print the results\n",
    "    print(f\"\\nSummary:\")\n",
    "    print(f\"Natural Palindromes: {natural_palindromes}\")\n",
    "    print(f\"Non-Lychrel Numbers: {non_lychrels}\")\n",
    "    print(f\"Lychrel Numbers: {lychrels}\")\n",
    "\n",
    "if _name_ == \"_main_\":\n",
    "    main()"
   ]
  }
 ],
 "metadata": {
  "kernelspec": {
   "display_name": "Python [conda env:base] *",
   "language": "python",
   "name": "conda-base-py"
  },
  "language_info": {
   "codemirror_mode": {
    "name": "ipython",
    "version": 3
   },
   "file_extension": ".py",
   "mimetype": "text/x-python",
   "name": "python",
   "nbconvert_exporter": "python",
   "pygments_lexer": "ipython3",
   "version": "3.12.7"
  }
 },
 "nbformat": 4,
 "nbformat_minor": 5
}
