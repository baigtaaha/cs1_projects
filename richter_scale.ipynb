{
 "cells": [
  {
   "cell_type": "code",
   "execution_count": 2,
   "id": "e08484e3-bd66-4593-8bc3-a49abb9ed131",
   "metadata": {},
   "outputs": [
    {
     "name": "stdout",
     "output_type": "stream",
     "text": [
      "Earthquake Energy Calculator\n",
      "\n",
      "Predefined Earthquake Magnitudes:\n",
      "Richter: 1.0\n",
      "Energy in joules: 1995262.3149688789\n",
      "Equivalent in tons of TNT: 0.00047687913837688307\n",
      "\n",
      "Richter: 5.0\n",
      "Energy in joules: 1995262314968.8828\n",
      "Equivalent in tons of TNT: 476.87913837688404\n",
      "\n",
      "Richter: 9.1\n",
      "Energy in joules: 2.818382931264449e+18\n",
      "Equivalent in tons of TNT: 673609687.2046962\n",
      "\n",
      "Richter: 9.2\n",
      "Energy in joules: 3.981071705534953e+18\n",
      "Equivalent in tons of TNT: 951498973.5982201\n",
      "\n",
      "Richter: 9.5\n",
      "Energy in joules: 1.1220184543019653e+19\n",
      "Equivalent in tons of TNT: 2681688466.3048882\n",
      "\n"
     ]
    },
    {
     "name": "stdin",
     "output_type": "stream",
     "text": [
      "Enter a Richter scale value:  5\n"
     ]
    },
    {
     "name": "stdout",
     "output_type": "stream",
     "text": [
      "\n",
      "For Richter value: 5.0\n",
      "Energy in joules: 1995262314968.8828\n",
      "Equivalent in tons of TNT: 476.87913837688404\n"
     ]
    }
   ],
   "source": [
    "#Richter Scale\n",
    "\n",
    "# Function to calculate energy in joules and tons of TNT\n",
    "def calculate_energy(richter):\n",
    "    energy = 10 ** (1.5 * richter + 4.8)\n",
    "    tnt = energy / (4.184 * 10 ** 9)\n",
    "    return energy, tnt\n",
    "\n",
    "# Predefined Richter values\n",
    "print(\"Earthquake Energy Calculator\\n\")\n",
    "\n",
    "print(\"Predefined Earthquake Magnitudes:\")\n",
    "richter_values = [1.0, 5.0, 9.1, 9.2, 9.5]\n",
    "\n",
    "for r in richter_values:\n",
    "    energy, tnt = calculate_energy(r)\n",
    "    print(\"Richter:\", r)\n",
    "    print(\"Energy in joules:\", energy)\n",
    "    print(\"Equivalent in tons of TNT:\", tnt)\n",
    "    print()  # blank line for spacing\n",
    "\n",
    "# User input\n",
    "user_input = input(\"Enter a Richter scale value: \")\n",
    "richter_value = float(user_input)\n",
    "\n",
    "energy, tnt = calculate_energy(richter_value)\n",
    "\n",
    "print(\"\\nFor Richter value:\", richter_value)\n",
    "print(\"Energy in joules:\", energy)\n",
    "print(\"Equivalent in tons of TNT:\", tnt)"
   ]
  },
  {
   "cell_type": "code",
   "execution_count": null,
   "id": "49e5a96b-953c-4206-bed2-f3b663341f4d",
   "metadata": {},
   "outputs": [],
   "source": []
  }
 ],
 "metadata": {
  "kernelspec": {
   "display_name": "Python [conda env:base] *",
   "language": "python",
   "name": "conda-base-py"
  },
  "language_info": {
   "codemirror_mode": {
    "name": "ipython",
    "version": 3
   },
   "file_extension": ".py",
   "mimetype": "text/x-python",
   "name": "python",
   "nbconvert_exporter": "python",
   "pygments_lexer": "ipython3",
   "version": "3.12.7"
  }
 },
 "nbformat": 4,
 "nbformat_minor": 5
}
