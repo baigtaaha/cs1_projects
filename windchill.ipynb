{
 "cells": [
  {
   "cell_type": "code",
   "execution_count": null,
   "id": "e84c6753-678d-4aab-9e19-5acc445ea445",
   "metadata": {},
   "outputs": [],
   "source": [
    "#Windchill\n",
    "\n",
    "# Function to calculate Wind Chill Temperature Index\n",
    "def calculate_wind_chill(temp, wind_speed):\n",
    "    wct_index = 35.74 + 0.6215 * temp - 35.75 * wind_speed*0.16 + 0.4275 * temp * wind_speed*0.16\n",
    "    return wct_index\n",
    "\n",
    "# Display heading\n",
    "print(\"Wind Chill Temperature Index Calculator\\n\")\n",
    "\n",
    "# Predefined values\n",
    "predefined_values = [\n",
    "    (10.0, 15.0),\n",
    "    (0.0, 25.0),\n",
    "    (-10.0, 35.0)\n",
    "]\n",
    "\n",
    "# Calculate and display for predefined values\n",
    "for temp, wind in predefined_values:\n",
    "    wct = calculate_wind_chill(temp, wind)\n",
    "    print(\"Air Temp:\", temp, \"°F, Wind Speed:\", wind, \"MPH -> Wind Chill Index:\", round(wct, 2))\n",
    "\n",
    "\n",
    "# Get user input\n",
    "user_temp = float(input(\"Enter air temperature in °F: \"))\n",
    "user_wind = float(input(\"Enter wind speed in MPH: \"))\n",
    "\n",
    "# Calculate user input result\n",
    "user_wct = calculate_wind_chill(user_temp, user_wind)\n",
    "\n",
    "# Display result\n",
    "print(\"For Air Temp:\", user_temp, \"°F and Wind Speed:\", user_wind, \"MPH\")\n",
    "print(\"Wind Chill Temperature Index is:\", round(user_wct, 2))"
   ]
  }
 ],
 "metadata": {
  "kernelspec": {
   "display_name": "Python [conda env:base] *",
   "language": "python",
   "name": "conda-base-py"
  },
  "language_info": {
   "codemirror_mode": {
    "name": "ipython",
    "version": 3
   },
   "file_extension": ".py",
   "mimetype": "text/x-python",
   "name": "python",
   "nbconvert_exporter": "python",
   "pygments_lexer": "ipython3",
   "version": "3.12.7"
  }
 },
 "nbformat": 4,
 "nbformat_minor": 5
}
