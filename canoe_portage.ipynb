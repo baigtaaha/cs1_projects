{
 "cells": [
  {
   "cell_type": "code",
   "execution_count": 2,
   "id": "aafc8766-c791-41e9-817f-3bae2ae34b36",
   "metadata": {},
   "outputs": [
    {
     "name": "stdin",
     "output_type": "stream",
     "text": [
      "Enter distance in rods:  150\n"
     ]
    },
    {
     "name": "stdout",
     "output_type": "stream",
     "text": [
      "You entered: 150.0 rods\n",
      "In meters: 754.38\n",
      "In feet: 2475.0000792\n",
      "In furlongs: 3.75\n",
      "Minutes to walk that distance: 9.072603194978345\n"
     ]
    }
   ],
   "source": [
    "# proj1.py\n",
    "#Canaeo Portage\n",
    "\n",
    "# Constants\n",
    "ROD_TO_METERS = 5.0292\n",
    "METER_TO_FEET = 3.28084\n",
    "MILE_IN_METERS = 1609.34\n",
    "FURLONG_IN_RODS = 40\n",
    "WALKING_SPEED_MPH = 3.1\n",
    "MINUTES_PER_HOUR = 60\n",
    "\n",
    "# Ask user for input\n",
    "rods = float(input(\"Enter distance in rods: \"))\n",
    "\n",
    "# Calculations\n",
    "meters = rods * ROD_TO_METERS\n",
    "feet = meters * METER_TO_FEET\n",
    "miles = meters / MILE_IN_METERS\n",
    "furlongs = rods / FURLONG_IN_RODS\n",
    "minutes = (miles / WALKING_SPEED_MPH) * MINUTES_PER_HOUR\n",
    "\n",
    "# Output results\n",
    "print(\"You entered:\", rods, \"rods\")\n",
    "print(\"In meters:\", meters)\n",
    "print(\"In feet:\", feet)\n",
    "print(\"In furlongs:\", furlongs)\n",
    "print(\"Minutes to walk that distance:\",minutes)"
   ]
  },
  {
   "cell_type": "code",
   "execution_count": null,
   "id": "d5364183-9a8b-4c1a-9c07-417720dd1cad",
   "metadata": {},
   "outputs": [],
   "source": []
  }
 ],
 "metadata": {
  "kernelspec": {
   "display_name": "Python [conda env:base] *",
   "language": "python",
   "name": "conda-base-py"
  },
  "language_info": {
   "codemirror_mode": {
    "name": "ipython",
    "version": 3
   },
   "file_extension": ".py",
   "mimetype": "text/x-python",
   "name": "python",
   "nbconvert_exporter": "python",
   "pygments_lexer": "ipython3",
   "version": "3.12.7"
  }
 },
 "nbformat": 4,
 "nbformat_minor": 5
}
