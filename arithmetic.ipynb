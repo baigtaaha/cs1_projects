{
 "cells": [
  {
   "cell_type": "code",
   "execution_count": null,
   "id": "455c9764-d1a9-4a9e-96d4-aa48aea2e4cd",
   "metadata": {},
   "outputs": [],
   "source": [
    "#Arithmetic\n",
    "\n",
    "# Prompt the user for two integers\n",
    "num1 = int(input(\"Enter the first integer: \"))\n",
    "num2 = int(input(\"Enter the second integer: \"))\n",
    "\n",
    "# Perform calculations\n",
    "sum_result = num1 + num2\n",
    "diff_result = num1 - num2\n",
    "prod_result = num1 * num2\n",
    "quotient = num1 // num2\n",
    "remainder = num1 % num2\n",
    "\n",
    "# Display results\n",
    "print(\"The sum of\", num1, \"and\", num2, \"is\", sum_result)\n",
    "print(\"The difference when\", num2, \"is subtracted from\", num1, \"is\", diff_result)\n",
    "print(\"The product of\", num1, \"and\", num2, \"is\", prod_result)\n",
    "print(\"The quotient when\", num1, \"is divided by\", num2, \"is\", quotient)\n",
    "print(\"The remainder when\", num1, \"is divided by\", num2, \"is\", remainder)"
   ]
  }
 ],
 "metadata": {
  "kernelspec": {
   "display_name": "Python [conda env:base] *",
   "language": "python",
   "name": "conda-base-py"
  },
  "language_info": {
   "codemirror_mode": {
    "name": "ipython",
    "version": 3
   },
   "file_extension": ".py",
   "mimetype": "text/x-python",
   "name": "python",
   "nbconvert_exporter": "python",
   "pygments_lexer": "ipython3",
   "version": "3.12.7"
  }
 },
 "nbformat": 4,
 "nbformat_minor": 5
}
