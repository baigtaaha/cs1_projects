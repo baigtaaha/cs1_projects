{
 "cells": [
  {
   "cell_type": "code",
   "execution_count": 2,
   "id": "609c303f-a391-428a-82af-2a1fff0a6050",
   "metadata": {},
   "outputs": [
    {
     "name": "stdin",
     "output_type": "stream",
     "text": [
      "Please enter the number of years to predict the population:  90\n"
     ]
    },
    {
     "name": "stdout",
     "output_type": "stream",
     "text": [
      "Predicted population after 90 years: 575587144\n"
     ]
    }
   ],
   "source": [
    "#Population\n",
    "\n",
    "# Get the number of years from the user\n",
    "years = int(input(\"Please enter the number of years to predict the population: \"))\n",
    "\n",
    "#  Constants\n",
    "initial_population = 307357870  # Starting population\n",
    "seconds_in_a_year = 365 * 24 * 60 * 60  # Total number of seconds in a year\n",
    "\n",
    "#  Rates\n",
    "birth_rate = 1 / 7  # Birth every 7 seconds\n",
    "death_rate = 1 / 13  # Death every 13 seconds\n",
    "immigrant_rate = 1 / 35  # Immigrant every 35 seconds\n",
    "\n",
    "#  Calculate population change per year\n",
    "seconds_in_input_years = years * seconds_in_a_year\n",
    "\n",
    "# Calculate the number of births, deaths, and immigrants in the given years\n",
    "births = seconds_in_input_years * birth_rate\n",
    "deaths = seconds_in_input_years * death_rate\n",
    "immigrants = seconds_in_input_years * immigrant_rate\n",
    "\n",
    "# Calculate the predicted population\n",
    "predicted_population = initial_population + births - deaths + immigrants\n",
    "\n",
    "#  Output the predicted population\n",
    "print(f\"Predicted population after {years} years: {int(predicted_population)}\")"
   ]
  },
  {
   "cell_type": "code",
   "execution_count": null,
   "id": "c59c70be-3757-4054-9a8f-b1e81e6bd15c",
   "metadata": {},
   "outputs": [],
   "source": []
  }
 ],
 "metadata": {
  "kernelspec": {
   "display_name": "Python [conda env:base] *",
   "language": "python",
   "name": "conda-base-py"
  },
  "language_info": {
   "codemirror_mode": {
    "name": "ipython",
    "version": 3
   },
   "file_extension": ".py",
   "mimetype": "text/x-python",
   "name": "python",
   "nbconvert_exporter": "python",
   "pygments_lexer": "ipython3",
   "version": "3.12.7"
  }
 },
 "nbformat": 4,
 "nbformat_minor": 5
}
