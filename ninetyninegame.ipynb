{
 "cells": [
  {
   "cell_type": "code",
   "execution_count": 2,
   "id": "7d122700-fc45-48c1-bb74-35f46de6e98f",
   "metadata": {},
   "outputs": [
    {
     "name": "stdout",
     "output_type": "stream",
     "text": [
      "We are going to play a game. I want you to pick a number then do a series of calculations. I bet I know what the result of those calculations will be!\n"
     ]
    },
    {
     "name": "stdin",
     "output_type": "stream",
     "text": [
      "Pick a number between 10 and 49(You):  33\n",
      "Pick a number between 50 and 99(player):  55\n"
     ]
    },
    {
     "name": "stdout",
     "output_type": "stream",
     "text": [
      "I said the answer was 33 and the calculation result is 55\n"
     ]
    }
   ],
   "source": [
    "#NinetyNine\n",
    "def ninety_nine_trick():\n",
    "    print(\"We are going to play a game. I want you to pick a number then do a series of calculations. I bet I know what the result of those calculations will be!\")\n",
    "\n",
    "    #  You choose a number between 10 and 49\n",
    "    answer = int(input(\"Pick a number between 10 and 49(You): \"))\n",
    "    if answer < 10 or answer > 49:\n",
    "        print(\"Invalid input! Number must be between 10 and 49.\")\n",
    "        return\n",
    "\n",
    "    # Calculate the factor\n",
    "    factor = 99 - answer\n",
    "\n",
    "    #  Friend picks a number between 50 and 99\n",
    "    friend_num = int(input(\"Pick a number between 50 and 99(player): \"))\n",
    "    if friend_num < 50 or friend_num > 99:\n",
    "        print(\"Invalid input! Friend's number must be between 50 and 99.\")\n",
    "        return\n",
    "\n",
    "    #  Add factor to friend's number\n",
    "    sum_val = friend_num + factor\n",
    "\n",
    "    #  Remove the hundred's digit and add it to unit's digit\n",
    "    # For example, 156 -> 56 + 1 = 57\n",
    "    hundreds_digit = sum_val // 100\n",
    "    last_two_digits = sum_val % 100\n",
    "    new_number = last_two_digits + hundreds_digit\n",
    "\n",
    "    #  Subtract from friend's original number\n",
    "    result = friend_num - new_number\n",
    "\n",
    "    #  Show result\n",
    "    print(\"I said the answer was\", answer, \"and the calculation result is\",  friend_num )\n",
    "\n",
    "# Run the trick\n",
    "ninety_nine_trick()"
   ]
  },
  {
   "cell_type": "code",
   "execution_count": null,
   "id": "19069050-ff0d-451a-a45f-9b069d9bccf9",
   "metadata": {},
   "outputs": [],
   "source": []
  }
 ],
 "metadata": {
  "kernelspec": {
   "display_name": "Python [conda env:base] *",
   "language": "python",
   "name": "conda-base-py"
  },
  "language_info": {
   "codemirror_mode": {
    "name": "ipython",
    "version": 3
   },
   "file_extension": ".py",
   "mimetype": "text/x-python",
   "name": "python",
   "nbconvert_exporter": "python",
   "pygments_lexer": "ipython3",
   "version": "3.12.7"
  }
 },
 "nbformat": 4,
 "nbformat_minor": 5
}
