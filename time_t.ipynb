{
 "cells": [
  {
   "cell_type": "code",
   "execution_count": null,
   "id": "201e66bf-d881-47c5-97ea-39cce86517e6",
   "metadata": {},
   "outputs": [],
   "source": [
    "#time travel\n",
    "\n",
    "# Constants\n",
    "C = 299792458  # Speed of light in meters per second\n",
    "REST_MASS = 70000  # Mass of the ship at rest (in kg)\n",
    "\n",
    "# Get user input\n",
    "speed_percent = float(input(\"Enter the speed as a percentage of the speed of light (e.g., 50 for 50%): \"))\n",
    "\n",
    "# Convert percentage to actual speed\n",
    "v = (speed_percent / 100.0) * C\n",
    "\n",
    "# Calculate the factor using Einstein's formula\n",
    "factor = 1 / ((1 - (v*2 / C2)) * 0.5)\n",
    "\n",
    "# Calculate increased mass and reduced times\n",
    "new_mass = REST_MASS * factor\n",
    "\n",
    "# Distances in light years\n",
    "distances = {\n",
    "    \"Alpha Centauri\": 4.3,\n",
    "    \"Barnard's Star\": 6.0,\n",
    "    \"Betelgeuse\": 309.0,\n",
    "    \"Andromeda Galaxy\": 2000000.0\n",
    "}\n",
    "\n",
    "# Display results\n",
    "print(\"\\nAt\", speed_percent, \"% of the speed of light:\")\n",
    "print(\"Mass of the ship: {:.2f} kg\".format(new_mass))\n",
    "print(\"\\nTime experienced by astronauts:\")\n",
    "for place, distance in distances.items():\n",
    "    time = distance / factor\n",
    "    print(\"- {}: {:.2f} years\".format(place, time))"
   ]
  }
 ],
 "metadata": {
  "kernelspec": {
   "display_name": "Python [conda env:base] *",
   "language": "python",
   "name": "conda-base-py"
  },
  "language_info": {
   "codemirror_mode": {
    "name": "ipython",
    "version": 3
   },
   "file_extension": ".py",
   "mimetype": "text/x-python",
   "name": "python",
   "nbconvert_exporter": "python",
   "pygments_lexer": "ipython3",
   "version": "3.12.7"
  }
 },
 "nbformat": 4,
 "nbformat_minor": 5
}
