{
 "cells": [
  {
   "cell_type": "code",
   "execution_count": null,
   "id": "28d4d446-e458-4e0c-91ec-ad11812f80bd",
   "metadata": {},
   "outputs": [],
   "source": [
    "#Gasoline\n",
    "\n",
    "# Prompt user for input (gallons of gasoline)\n",
    "gallons_str = input(\"Enter the number of gallons of gasoline: \")\n",
    "gallons = float(gallons_str)\n",
    "\n",
    "# Conversion factors\n",
    "LITERS_PER_GALLON = 3.7854\n",
    "GALLONS_PER_BARREL = 19.5\n",
    "CO2_PER_GALLON = 20.0  # in pounds\n",
    "BTU_GASOLINE = 115000\n",
    "BTU_ETHANOL = 75700\n",
    "PRICE_PER_GALLON = 4.00  # in USD\n",
    "\n",
    "# Calculations\n",
    "liters = gallons * LITERS_PER_GALLON\n",
    "barrels = gallons / GALLONS_PER_BARREL\n",
    "co2 = gallons * CO2_PER_GALLON\n",
    "ethanol_equivalent = (gallons * BTU_GASOLINE) / BTU_ETHANOL\n",
    "cost = gallons * PRICE_PER_GALLON\n",
    "\n",
    "# Output results\n",
    "print(\"You entered:\", gallons, \"gallons of gasoline.\")\n",
    "print(\"That is equivalent to\", liters, \"liters.\")\n",
    "print(\"Barrels of oil required:\", barrels)\n",
    "print(\"Pounds of CO2 produced:\", co2)\n",
    "print(\"Energy equivalent in ethanol gallons:\", ethanol_equivalent)\n",
    "print(\"Price in US dollars: $\", cost)"
   ]
  }
 ],
 "metadata": {
  "kernelspec": {
   "display_name": "Python [conda env:base] *",
   "language": "python",
   "name": "conda-base-py"
  },
  "language_info": {
   "codemirror_mode": {
    "name": "ipython",
    "version": 3
   },
   "file_extension": ".py",
   "mimetype": "text/x-python",
   "name": "python",
   "nbconvert_exporter": "python",
   "pygments_lexer": "ipython3",
   "version": "3.12.7"
  }
 },
 "nbformat": 4,
 "nbformat_minor": 5
}
