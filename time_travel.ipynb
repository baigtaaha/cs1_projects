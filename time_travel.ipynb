{
 "cells": [
  {
   "cell_type": "code",
   "execution_count": 2,
   "id": "d45a4120-30aa-484d-a3b3-14f70b32ea78",
   "metadata": {},
   "outputs": [
    {
     "name": "stdin",
     "output_type": "stream",
     "text": [
      "Please enter a speed in miles per hour:  45\n"
     ]
    },
    {
     "name": "stdout",
     "output_type": "stream",
     "text": [
      "Original Speed in mph is: 45.0 miles per hour\n",
      "Converted to barleycorns per day is: 204480744.82\n",
      "Converted to furlongs per fortnight is: 5040.00\n",
      "Converted to mach number is: 210.27\n",
      "Converted to percentage of the speed of light is: 0.024157%\n"
     ]
    }
   ],
   "source": [
    "#Measurement\n",
    "\n",
    "#Get user input (speed in miles per hour)\n",
    "speed_mph = float(input(\"Please enter a speed in miles per hour: \"))\n",
    "\n",
    "#Convert the speed into different units\n",
    "\n",
    "# Convert to barleycorns per day\n",
    "# 1 mile = 1609.34 meters, and 1 meter = 117.647 barleycorns\n",
    "meters_per_mile = 1609.34\n",
    "barleycorns_per_meter = 117.647\n",
    "barleycorns_per_day = speed_mph * meters_per_mile * barleycorns_per_meter * 24  # Convert to barleycorns per day\n",
    "\n",
    "# Convert to furlongs per fortnight\n",
    "# 1 furlong = 220 yards, and 1 mile = 1760 yards\n",
    "yards_per_mile = 1760\n",
    "furlongs_per_yard = 1 / 220\n",
    "fortnight_in_days = 14\n",
    "furlongs_per_fortnight = speed_mph * yards_per_mile * furlongs_per_yard * fortnight_in_days  # Convert to furlongs per fortnight\n",
    "\n",
    "# Convert to Mach number\n",
    "# Speed of sound = 1130 feet per second, and 1 mile = 5280 feet\n",
    "feet_per_mile = 5280\n",
    "mach_number = (speed_mph * feet_per_mile) / 1130  # Convert to Mach number\n",
    "\n",
    "# Convert to percentage of the speed of light\n",
    "# Speed of light = 299,792,458 meters per second, and 1 mile = 1609.34 meters\n",
    "speed_of_light_mps = 299792458  # meters per second\n",
    "meters_per_mile_light = speed_mph * meters_per_mile  # Convert miles per hour to meters per second\n",
    "light_percentage = (meters_per_mile_light / speed_of_light_mps) * 100  # Percentage of speed of light\n",
    "\n",
    "#Print the results\n",
    "print(f\"Original Speed in mph is: {speed_mph} miles per hour\")\n",
    "print(f\"Converted to barleycorns per day is: {barleycorns_per_day:.2f}\")\n",
    "print(f\"Converted to furlongs per fortnight is: {furlongs_per_fortnight:.2f}\")\n",
    "print(f\"Converted to mach number is: {mach_number:.2f}\")\n",
    "print(f\"Converted to percentage of the speed of light is: {light_percentage:.6f}%\")"
   ]
  },
  {
   "cell_type": "code",
   "execution_count": null,
   "id": "55361bcb-085e-40cf-b8a8-db4969e81c09",
   "metadata": {},
   "outputs": [],
   "source": []
  }
 ],
 "metadata": {
  "kernelspec": {
   "display_name": "Python [conda env:base] *",
   "language": "python",
   "name": "conda-base-py"
  },
  "language_info": {
   "codemirror_mode": {
    "name": "ipython",
    "version": 3
   },
   "file_extension": ".py",
   "mimetype": "text/x-python",
   "name": "python",
   "nbconvert_exporter": "python",
   "pygments_lexer": "ipython3",
   "version": "3.12.7"
  }
 },
 "nbformat": 4,
 "nbformat_minor": 5
}
