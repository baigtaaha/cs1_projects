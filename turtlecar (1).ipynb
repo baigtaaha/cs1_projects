{
 "cells": [
  {
   "cell_type": "code",
   "execution_count": null,
   "id": "b0f3a604-55eb-4266-a8c6-edc4ee2adf62",
   "metadata": {},
   "outputs": [],
   "source": [
    "#TurtleCar\n",
    "\n",
    "import matplotlib.pyplot as plt\n",
    "import matplotlib.patches as patches\n",
    "\n",
    "# Define the car drawing function\n",
    "def draw_car():\n",
    "    # Create a figure and axis\n",
    "    fig, ax = plt.subplots()\n",
    "\n",
    "    # Add a car body (rectangle)\n",
    "    car_body = patches.Rectangle((-100, -50), 200, 50, linewidth=2, edgecolor='black', facecolor='blue')\n",
    "    ax.add_patch(car_body)\n",
    "\n",
    "    # Add wheels (circles)\n",
    "    wheel1 = patches.Circle((-80, -80), 20, color='black')\n",
    "    wheel2 = patches.Circle((80, -80), 20, color='black')\n",
    "    ax.add_patch(wheel1)\n",
    "    ax.add_patch(wheel2)\n",
    "\n",
    "    # Add windows (rectangles)\n",
    "    window1 = patches.Rectangle((-50, -10), 50, 30, linewidth=2, edgecolor='black', facecolor='lightblue')\n",
    "    window2 = patches.Rectangle((30, -10), 50, 30, linewidth=2, edgecolor='black', facecolor='lightblue')\n",
    "    ax.add_patch(window1)\n",
    "    ax.add_patch(window2)\n",
    "\n",
    "    # Add an antenna (line)\n",
    "    ax.plot([50, 50], [30, 130], color='gray', lw=2)\n",
    "\n",
    "    # Set axis limits and hide axes\n",
    "    ax.set_xlim(-200, 200)\n",
    "    ax.set_ylim(-150, 150)\n",
    "    ax.set_aspect('equal')\n",
    "    ax.axis('off')\n",
    "\n",
    "    # Show the plot\n",
    "    plt.show()\n",
    "\n",
    "# Call the function to draw the car\n",
    "draw_car()"
   ]
  }
 ],
 "metadata": {
  "kernelspec": {
   "display_name": "Python [conda env:base] *",
   "language": "python",
   "name": "conda-base-py"
  },
  "language_info": {
   "codemirror_mode": {
    "name": "ipython",
    "version": 3
   },
   "file_extension": ".py",
   "mimetype": "text/x-python",
   "name": "python",
   "nbconvert_exporter": "python",
   "pygments_lexer": "ipython3",
   "version": "3.12.7"
  }
 },
 "nbformat": 4,
 "nbformat_minor": 5
}
